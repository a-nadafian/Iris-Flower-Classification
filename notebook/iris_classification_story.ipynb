{
 "cells": [
  {
   "cell_type": "markdown",
   "metadata": {},
   "source": [
    "# The Tale of the Iris Flower: A Classification Adventure"
   ]
  },
  {
   "cell_type": "markdown",
   "metadata": {},
   "source": [
    "**Introduction:** Once upon a time, in the world of data, there existed a famous dataset known as the Iris dataset. It holds the measurements of three different species of Iris flowers: Setosa, Versicolor, and Virginica. Our quest is to build a magical model that can predict the species of an Iris flower based on its measurements."
   ]
  },
  {
   "cell_type": "markdown",
   "metadata": {},
   "source": [
    "## Chapter 1: Gathering the Seeds (Loading the Data)"
   ]
  },
  {
   "cell_type": "markdown",
   "metadata": {},
   "source": [
    "First, we need to import our tools and load the dataset. These libraries are our trusty companions on this journey."
   ]
  },
  {
   "cell_type": "code",
   "id": "initial_id",
   "metadata": {
    "collapsed": true
   },
   "source": [
    "import pandas as pd\n",
    "import seaborn as sns\n",
    "import matplotlib.pyplot as plt\n",
    "import os"
   ],
   "outputs": [],
   "execution_count": 1
  },
  {
   "cell_type": "code",
   "source": [
    "input_path = os.path.join('..', 'data', 'raw')\n",
    "output_path = os. path.join('..', 'data', 'processed')"
   ],
   "id": "93a1dcca99b089fa",
   "outputs": [],
   "execution_count": 2
  },
  {
   "cell_type": "markdown",
   "metadata": {},
   "source": [
    "Now, let's plant our seeds by reading the `IRIS.csv` file. We'll take a peek at the first few rows to see what our data looks like."
   ]
  },
  {
   "cell_type": "code",
   "source": [
    "flower_df = pd.read_csv(os.path.join(input_path, 'IRIS.csv'))\n",
    "flower_df.head()"
   ],
   "id": "594c8d5fd974b238",
   "outputs": [],
   "execution_count": 3
  },
  {
   "cell_type": "markdown",
   "metadata": {},
   "source": [
    "## Chapter 2: The First Bloom (Exploring the Data)"
   ]
  },
  {
   "cell_type": "markdown",
   "metadata": {},
   "source": [
    "Our seeds have sprouted! Let's examine our data to understand its structure and characteristics."
   ]
  },
  {
   "cell_type": "code",
   "source": "flower_df.info()",
   "id": "b75c04eaa0ab2b01",
   "outputs": [],
   "execution_count": 4
  },
  {
   "cell_type": "markdown",
   "metadata": {},
   "source": [
    "We have 150 flowers in our garden, with 50 of each species. A perfectly balanced dataset!"
   ]
  },
  {
   "cell_type": "code",
   "source": "flower_df.value_counts('species')",
   "id": "8f71095e8f8740d9",
   "outputs": [],
   "execution_count": 5
  },
  {
   "cell_type": "markdown",
   "metadata": {},
   "source": [
    "## Chapter 3: Painting a Picture (Data Visualization)"
   ]
  },
  {
   "cell_type": "markdown",
   "metadata": {},
   "source": [
    "Let's create a beautiful visualization to see how the different species are distinguished by their features. The pairplot will help us see the relationships between all pairs of features."
   ]
  },
  {
   "cell_type": "code",
   "source": [
    "sns.pairplot(flower_df, hue='species')\n",
    "plt.show()"
   ],
   "id": "974db47a2876cb1a",
   "outputs": [],
   "execution_count": 6
  },
  {
   "cell_type": "markdown",
   "metadata": {},
   "source": [
    "From the pairplot, we can see that the Iris-setosa species is easily separable from the other two. Iris-versicolor and Iris-virginica are more similar to each other, but we can still see some separation."
   ]
  },
  {
   "cell_type": "markdown",
   "metadata": {},
   "source": [
    "## Chapter 4: Preparing the Soil (Data Preprocessing)"
   ]
  },
  {
   "cell_type": "markdown",
   "metadata": {},
   "source": [
    "Before we train our model, we need to prepare the data. We'll separate the features (X) from the target (y), which is the species of the flower."
   ]
  },
  {
   "cell_type": "code",
   "source": [
    "# Separate Features (X) and Target (y)\n",
    "X = flower_df.drop('species', axis=1)\n",
    "y = flower_df['species']"
   ],
   "id": "99019e5f18dfda6a",
   "outputs": [],
   "execution_count": 7
  },
  {
   "cell_type": "markdown",
   "metadata": {},
   "source": [
    "Next, we'll split our data into a training set and a testing set. The training set will be used to teach our model, and the testing set will be used to evaluate its performance."
   ]
  },
  {
   "cell_type": "code",
   "source": [
    "from sklearn.model_selection import train_test_split\n",
    "X_train, X_test, y_train, y_test = train_test_split(X, y, test_size=0.2, random_state=42)"
   ],
   "id": "3341f456b166083a",
   "outputs": [],
   "execution_count": 8
  },
  {
   "cell_type": "markdown",
   "metadata": {},
   "source": [
    "## Chapter 5: The Oracle's Prediction (Training the Model)"
   ]
  },
  {
   "cell_type": "markdown",
   "metadata": {},
   "source": [
    "Now it's time to build our predictive model. We will use the K-Nearest Neighbors (KNN) algorithm, which is a simple yet powerful classification algorithm."
   ]
  },
  {
   "cell_type": "code",
   "source": [
    "from sklearn.neighbors import KNeighborsClassifier\n",
    "\n",
    "model = KNeighborsClassifier(n_neighbors=3)\n",
    "model.fit(X_train, y_train)"
   ],
   "id": "b3289beb795e37e5",
   "outputs": [],
   "execution_count": 9
  },
  {
   "cell_type": "markdown",
   "metadata": {},
   "source": [
    "## Chapter 6: The Moment of Truth (Evaluating the Model)"
   ]
  },
  {
   "cell_type": "markdown",
   "metadata": {},
   "source": [
    "Our model has been trained! Let's see how well it performs on the test data."
   ]
  },
  {
   "cell_type": "code",
   "source": [
    "from sklearn.metrics import accuracy_score, classification_report, confusion_matrix\n",
    "\n",
    "y_pred = model.predict(X_test)\n",
    "accuracy = accuracy_score(y_test, y_pred)\n",
    "print(f\"Model Accuracy: {accuracy:.2f}\")"
   ],
   "id": "a4a6da2b189dd9d6",
   "outputs": [],
   "execution_count": 10
  },
  {
   "cell_type": "markdown",
   "metadata": {},
   "source": [
    "A perfect score! Our model is a true oracle. Let's look at the classification report for a more detailed breakdown."
   ]
  },
  {
   "cell_type": "code",
   "source": [
    "print(\"\\nClassification Report:\")\n",
    "print(classification_report(y_test, y_pred))"
   ],
   "id": "1bb47883c7c1094e",
   "outputs": [],
   "execution_count": 11
  },
  {
   "cell_type": "markdown",
   "metadata": {},
   "source": [
    "The confusion matrix will show us if there were any misclassifications."
   ]
  },
  {
   "cell_type": "code",
   "source": [
    "print(\"\\nConfusion Matrix:\")\n",
    "cm = confusion_matrix(y_test, y_pred)\n",
    "print(cm)"
   ],
   "id": "106bab5c25c083d4",
   "outputs": [],
   "execution_count": 12
  },
  {
   "cell_type": "code",
   "source": [
    "plt.figure(figsize=(8, 6))\n",
    "sns.heatmap(cm, annot=True, fmt=\"d\", cmap=\"Blues\",\n",
    "            xticklabels=model.classes_, yticklabels=model.classes_)\n",
    "plt.xlabel(\"Predicted Species\")\n",
    "plt.ylabel(\"Actual Species\")\n",
    "plt.title(\"Confusion Matrix\")\n",
    "plt.show()"
   ],
   "id": "24e41d1419f19708",
   "outputs": [],
   "execution_count": 13
  },
  {
   "cell_type": "markdown",
   "metadata": {},
   "source": [
    "**Conclusion:** Our journey has been a success! We've built a model that can perfectly classify Iris flowers based on their measurements. This notebook tells the story of our adventure, from the first seeds of data to the final bloom of a predictive model."
   ]
  }
 ],
 "metadata": {
  "kernelspec": {
   "display_name": "Python 3",
   "language": "python",
   "name": "python3"
  },
  "language_info": {
   "codemirror_mode": {
    "name": "ipython",
    "version": 2
   },
   "file_extension": ".py",
   "mimetype": "text/x-python",
   "name": "python",
   "nbconvert_exporter": "python",
   "pygments_lexer": "ipython2",
   "version": "2.7.6"
  }
 },
 "nbformat": 4,
 "nbformat_minor": 5
}
